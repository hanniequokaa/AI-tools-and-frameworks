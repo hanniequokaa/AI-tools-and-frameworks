{
 "cells": [
  {
   "cell_type": "code",
   "execution_count": null,
   "id": "5f4f6c21",
   "metadata": {},
   "outputs": [
    {
     "name": "stdout",
     "output_type": "stream",
     "text": [
      "\n",
      "Review: I absolutely love this Samsung phone! The camera quality is amazing and the battery lasts all day.\n",
      "Sentiment: Positive 😊\n",
      "\n",
      "Review: The headphones stopped working after a week. Very disappointed in Sony’s quality.\n",
      "Sentiment: Negative 😠\n",
      "\n",
      "Review: This Apple MacBook is fast, sleek, and worth every penny.\n",
      "Sentiment: Positive 😊\n",
      "\n",
      "Review: Terrible service! The Dell laptop arrived with scratches and missing charger.\n",
      "Sentiment: Negative 😠\n",
      "\n",
      "Review: The Amazon Echo speaker has great sound and Alexa is super helpful.\n",
      "Sentiment: Positive 😊\n"
     ]
    }
   ],
   "source": [
    "# sentiment analysis of amazon product reviews\n",
    "positive_words = [\"love\", \"amazing\", \"great\", \"fast\", \"helpful\", \"worth\"]\n",
    "negative_words = [\"terrible\", \"disappointed\", \"bad\", \"poor\", \"stopped\", \"scratches\"]\n",
    "\n",
    "def get_sentiment(text):\n",
    "    text_lower = text.lower()\n",
    "    pos = sum(word in text_lower for word in positive_words)\n",
    "    neg = sum(word in text_lower for word in negative_words)\n",
    "    if pos > neg:\n",
    "        return \"Positive 😊\"\n",
    "    elif neg > pos:\n",
    "        return \"Negative 😠\"\n",
    "    else:\n",
    "        return \"Neutral 😐\"\n",
    "\n",
    "for review in reviews:\n",
    "    sentiment = get_sentiment(review)\n",
    "    print(f\"\\nReview: {review}\")\n",
    "    print(f\"Sentiment: {sentiment}\")\n"
   ]
  },
  {
   "cell_type": "code",
   "execution_count": null,
   "id": "4c5d7eeb",
   "metadata": {},
   "outputs": [
    {
     "name": "stdout",
     "output_type": "stream",
     "text": [
      "\n",
      "Review: I absolutely love this Samsung phone! The camera quality is amazing and the battery lasts all day.\n",
      "Entities found:\n",
      " - Samsung (ORG)\n",
      " - all day (DATE)\n",
      "\n",
      "Review: The headphones stopped working after a week. Very disappointed in Sony’s quality.\n",
      "Entities found:\n",
      " - a week (DATE)\n",
      " - Sony (ORG)\n",
      "\n",
      "Review: This Apple MacBook is fast, sleek, and worth every penny.\n",
      "Entities found:\n",
      " - This Apple MacBook (ORG)\n",
      " - every penny (MONEY)\n",
      "\n",
      "Review: Terrible service! The Dell laptop arrived with scratches and missing charger.\n",
      "Entities found:\n",
      " - Dell (PERSON)\n",
      "\n",
      "Review: The Amazon Echo speaker has great sound and Alexa is super helpful.\n",
      "Entities found:\n",
      " - Amazon Echo (ORG)\n",
      " - Alexa (ORG)\n"
     ]
    }
   ],
   "source": [
    "# Named Entity Recognition (NER) using spaCy\n",
    "for review in reviews:\n",
    "    doc = nlp(review)\n",
    "    print(f\"\\nReview: {review}\")\n",
    "    print(\"Entities found:\")\n",
    "    for ent in doc.ents:\n",
    "        print(f\" - {ent.text} ({ent.label_})\")\n"
   ]
  },
  {
   "cell_type": "code",
   "execution_count": null,
   "id": "8226ff09",
   "metadata": {},
   "outputs": [],
   "source": [
    "# Sample Amazon product reviews\n",
    "reviews = [\n",
    "    \"I absolutely love this Samsung phone! The camera quality is amazing and the battery lasts all day.\",\n",
    "    \"The headphones stopped working after a week. Very disappointed in Sony’s quality.\",\n",
    "    \"This Apple MacBook is fast, sleek, and worth every penny.\",\n",
    "    \"Terrible service! The Dell laptop arrived with scratches and missing charger.\",\n",
    "    \"The Amazon Echo speaker has great sound and Alexa is super helpful.\"\n",
    "]\n"
   ]
  },
  {
   "cell_type": "code",
   "execution_count": null,
   "id": "e36a24bc",
   "metadata": {},
   "outputs": [],
   "source": [
    "# importing and loading the dataset\n",
    "import spacy\n",
    "\n",
    "# Load English NLP model\n",
    "nlp = spacy.load(\"en_core_web_sm\")\n"
   ]
  },
  {
   "cell_type": "code",
   "execution_count": null,
   "id": "e61a681f",
   "metadata": {},
   "outputs": [
    {
     "name": "stdout",
     "output_type": "stream",
     "text": [
      "Requirement already satisfied: spacy in c:\\users\\robert\\appdata\\local\\programs\\python\\python313\\lib\\site-packages (3.8.7)\n",
      "Requirement already satisfied: spacy-legacy<3.1.0,>=3.0.11 in c:\\users\\robert\\appdata\\local\\programs\\python\\python313\\lib\\site-packages (from spacy) (3.0.12)\n",
      "Requirement already satisfied: spacy-loggers<2.0.0,>=1.0.0 in c:\\users\\robert\\appdata\\local\\programs\\python\\python313\\lib\\site-packages (from spacy) (1.0.5)\n",
      "Requirement already satisfied: murmurhash<1.1.0,>=0.28.0 in c:\\users\\robert\\appdata\\local\\programs\\python\\python313\\lib\\site-packages (from spacy) (1.0.13)\n",
      "Requirement already satisfied: cymem<2.1.0,>=2.0.2 in c:\\users\\robert\\appdata\\local\\programs\\python\\python313\\lib\\site-packages (from spacy) (2.0.11)\n",
      "Requirement already satisfied: preshed<3.1.0,>=3.0.2 in c:\\users\\robert\\appdata\\local\\programs\\python\\python313\\lib\\site-packages (from spacy) (3.0.10)\n",
      "Requirement already satisfied: thinc<8.4.0,>=8.3.4 in c:\\users\\robert\\appdata\\local\\programs\\python\\python313\\lib\\site-packages (from spacy) (8.3.6)\n",
      "Requirement already satisfied: wasabi<1.2.0,>=0.9.1 in c:\\users\\robert\\appdata\\local\\programs\\python\\python313\\lib\\site-packages (from spacy) (1.1.3)\n",
      "Requirement already satisfied: srsly<3.0.0,>=2.4.3 in c:\\users\\robert\\appdata\\local\\programs\\python\\python313\\lib\\site-packages (from spacy) (2.5.1)\n",
      "Requirement already satisfied: catalogue<2.1.0,>=2.0.6 in c:\\users\\robert\\appdata\\local\\programs\\python\\python313\\lib\\site-packages (from spacy) (2.0.10)\n",
      "Requirement already satisfied: weasel<0.5.0,>=0.1.0 in c:\\users\\robert\\appdata\\local\\programs\\python\\python313\\lib\\site-packages (from spacy) (0.4.1)\n",
      "Requirement already satisfied: typer<1.0.0,>=0.3.0 in c:\\users\\robert\\appdata\\local\\programs\\python\\python313\\lib\\site-packages (from spacy) (0.19.2)\n",
      "Requirement already satisfied: tqdm<5.0.0,>=4.38.0 in c:\\users\\robert\\appdata\\local\\programs\\python\\python313\\lib\\site-packages (from spacy) (4.67.1)\n",
      "Requirement already satisfied: numpy>=1.19.0 in c:\\users\\robert\\appdata\\local\\programs\\python\\python313\\lib\\site-packages (from spacy) (2.3.2)\n",
      "Requirement already satisfied: requests<3.0.0,>=2.13.0 in c:\\users\\robert\\appdata\\local\\programs\\python\\python313\\lib\\site-packages (from spacy) (2.32.5)\n",
      "Requirement already satisfied: pydantic!=1.8,!=1.8.1,<3.0.0,>=1.7.4 in c:\\users\\robert\\appdata\\local\\programs\\python\\python313\\lib\\site-packages (from spacy) (2.12.2)\n",
      "Requirement already satisfied: jinja2 in c:\\users\\robert\\appdata\\local\\programs\\python\\python313\\lib\\site-packages (from spacy) (3.1.6)\n",
      "Requirement already satisfied: setuptools in c:\\users\\robert\\appdata\\local\\programs\\python\\python313\\lib\\site-packages (from spacy) (80.9.0)\n",
      "Requirement already satisfied: packaging>=20.0 in c:\\users\\robert\\appdata\\local\\programs\\python\\python313\\lib\\site-packages (from spacy) (25.0)\n",
      "Requirement already satisfied: langcodes<4.0.0,>=3.2.0 in c:\\users\\robert\\appdata\\local\\programs\\python\\python313\\lib\\site-packages (from spacy) (3.5.0)\n",
      "Requirement already satisfied: language-data>=1.2 in c:\\users\\robert\\appdata\\local\\programs\\python\\python313\\lib\\site-packages (from langcodes<4.0.0,>=3.2.0->spacy) (1.3.0)\n",
      "Requirement already satisfied: annotated-types>=0.6.0 in c:\\users\\robert\\appdata\\local\\programs\\python\\python313\\lib\\site-packages (from pydantic!=1.8,!=1.8.1,<3.0.0,>=1.7.4->spacy) (0.7.0)\n",
      "Requirement already satisfied: pydantic-core==2.41.4 in c:\\users\\robert\\appdata\\local\\programs\\python\\python313\\lib\\site-packages (from pydantic!=1.8,!=1.8.1,<3.0.0,>=1.7.4->spacy) (2.41.4)\n",
      "Requirement already satisfied: typing-extensions>=4.14.1 in c:\\users\\robert\\appdata\\local\\programs\\python\\python313\\lib\\site-packages (from pydantic!=1.8,!=1.8.1,<3.0.0,>=1.7.4->spacy) (4.14.1)\n",
      "Requirement already satisfied: typing-inspection>=0.4.2 in c:\\users\\robert\\appdata\\local\\programs\\python\\python313\\lib\\site-packages (from pydantic!=1.8,!=1.8.1,<3.0.0,>=1.7.4->spacy) (0.4.2)\n",
      "Requirement already satisfied: charset_normalizer<4,>=2 in c:\\users\\robert\\appdata\\local\\programs\\python\\python313\\lib\\site-packages (from requests<3.0.0,>=2.13.0->spacy) (3.4.3)\n",
      "Requirement already satisfied: idna<4,>=2.5 in c:\\users\\robert\\appdata\\local\\programs\\python\\python313\\lib\\site-packages (from requests<3.0.0,>=2.13.0->spacy) (3.10)\n",
      "Requirement already satisfied: urllib3<3,>=1.21.1 in c:\\users\\robert\\appdata\\local\\programs\\python\\python313\\lib\\site-packages (from requests<3.0.0,>=2.13.0->spacy) (2.5.0)\n",
      "Requirement already satisfied: certifi>=2017.4.17 in c:\\users\\robert\\appdata\\local\\programs\\python\\python313\\lib\\site-packages (from requests<3.0.0,>=2.13.0->spacy) (2025.8.3)\n",
      "Requirement already satisfied: blis<1.4.0,>=1.3.0 in c:\\users\\robert\\appdata\\local\\programs\\python\\python313\\lib\\site-packages (from thinc<8.4.0,>=8.3.4->spacy) (1.3.0)\n",
      "Requirement already satisfied: confection<1.0.0,>=0.0.1 in c:\\users\\robert\\appdata\\local\\programs\\python\\python313\\lib\\site-packages (from thinc<8.4.0,>=8.3.4->spacy) (0.1.5)\n",
      "Requirement already satisfied: colorama in c:\\users\\robert\\appdata\\local\\programs\\python\\python313\\lib\\site-packages (from tqdm<5.0.0,>=4.38.0->spacy) (0.4.6)\n",
      "Requirement already satisfied: click>=8.0.0 in c:\\users\\robert\\appdata\\local\\programs\\python\\python313\\lib\\site-packages (from typer<1.0.0,>=0.3.0->spacy) (8.2.1)\n",
      "Requirement already satisfied: shellingham>=1.3.0 in c:\\users\\robert\\appdata\\local\\programs\\python\\python313\\lib\\site-packages (from typer<1.0.0,>=0.3.0->spacy) (1.5.4)\n",
      "Requirement already satisfied: rich>=10.11.0 in c:\\users\\robert\\appdata\\local\\programs\\python\\python313\\lib\\site-packages (from typer<1.0.0,>=0.3.0->spacy) (14.2.0)\n",
      "Requirement already satisfied: cloudpathlib<1.0.0,>=0.7.0 in c:\\users\\robert\\appdata\\local\\programs\\python\\python313\\lib\\site-packages (from weasel<0.5.0,>=0.1.0->spacy) (0.23.0)\n",
      "Requirement already satisfied: smart-open<8.0.0,>=5.2.1 in c:\\users\\robert\\appdata\\local\\programs\\python\\python313\\lib\\site-packages (from weasel<0.5.0,>=0.1.0->spacy) (7.3.1)\n",
      "Requirement already satisfied: wrapt in c:\\users\\robert\\appdata\\local\\programs\\python\\python313\\lib\\site-packages (from smart-open<8.0.0,>=5.2.1->weasel<0.5.0,>=0.1.0->spacy) (1.17.3)\n",
      "Requirement already satisfied: marisa-trie>=1.1.0 in c:\\users\\robert\\appdata\\local\\programs\\python\\python313\\lib\\site-packages (from language-data>=1.2->langcodes<4.0.0,>=3.2.0->spacy) (1.3.1)\n",
      "Requirement already satisfied: markdown-it-py>=2.2.0 in c:\\users\\robert\\appdata\\local\\programs\\python\\python313\\lib\\site-packages (from rich>=10.11.0->typer<1.0.0,>=0.3.0->spacy) (4.0.0)\n",
      "Requirement already satisfied: pygments<3.0.0,>=2.13.0 in c:\\users\\robert\\appdata\\roaming\\python\\python313\\site-packages (from rich>=10.11.0->typer<1.0.0,>=0.3.0->spacy) (2.19.2)\n",
      "Requirement already satisfied: mdurl~=0.1 in c:\\users\\robert\\appdata\\local\\programs\\python\\python313\\lib\\site-packages (from markdown-it-py>=2.2.0->rich>=10.11.0->typer<1.0.0,>=0.3.0->spacy) (0.1.2)\n",
      "Requirement already satisfied: MarkupSafe>=2.0 in c:\\users\\robert\\appdata\\local\\programs\\python\\python313\\lib\\site-packages (from jinja2->spacy) (3.0.2)\n",
      "Collecting en-core-web-sm==3.8.0\n",
      "  Downloading https://github.com/explosion/spacy-models/releases/download/en_core_web_sm-3.8.0/en_core_web_sm-3.8.0-py3-none-any.whl\n",
      "     - 0 bytes ? 0:00:00\n",
      "     - 0 bytes ? 0:00:00\n"
     ]
    },
    {
     "name": "stderr",
     "output_type": "stream",
     "text": [
      "ERROR: Wheel 'en-core-web-sm' located at C:\\Users\\ROBERT\\AppData\\Local\\Temp\\pip-unpack-bpyj73t3\\en_core_web_sm-3.8.0-py3-none-any.whl is invalid.\n"
     ]
    }
   ],
   "source": [
    "# installation and loading of spacy framework\n",
    "!pip install spacy\n",
    "!python -m spacy download en_core_web_sm\n",
    "\n"
   ]
  }
 ],
 "metadata": {
  "kernelspec": {
   "display_name": "Python 3",
   "language": "python",
   "name": "python3"
  },
  "language_info": {
   "codemirror_mode": {
    "name": "ipython",
    "version": 3
   },
   "file_extension": ".py",
   "mimetype": "text/x-python",
   "name": "python",
   "nbconvert_exporter": "python",
   "pygments_lexer": "ipython3",
   "version": "3.13.3"
  }
 },
 "nbformat": 4,
 "nbformat_minor": 5
}
